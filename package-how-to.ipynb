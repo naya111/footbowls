{
 "cells": [
  {
   "cell_type": "markdown",
   "metadata": {},
   "source": [
    "## Vignette for my package 'footbowls'\n",
    "\n",
    "### Introduction\n",
    "### ============\n",
    "\n",
    "##### The `footbowls` package is a Python API wrapper for the API-Football API. It provides functions to retrieve information about football teams and players, specifically from the API-Football API.\n",
    "\n",
    "### Installation\n",
    "### ============\n",
    "\n",
    "##### To install the `footbowls` package, use the following command:\n",
    "\n",
    "    pip install footbowls\n",
    "\n",
    "\n",
    "### Usage\n",
    "### =====\n",
    "\n",
    "#### 1) Get Teams\n",
    "\n",
    "##### The `get_teams` function retrieves information about football teams based on team names.\n",
    "\n",
    "\n",
    "    import footbowls\n",
    "\n",
    "    # Example usage for 'get_teams' function with team names\n",
    "    team_names = ['Liverpool', 'Real Madrid', 'Manchester United']\n",
    "    teams_df = footbowls.get_teams(team_names=team_names)\n",
    "    print(teams_df)\n",
    "\n",
    "##### This will output a DataFrame containing information about the specified teams, including Team ID, Team Name, Team Code, Team Venue, and Country of Origin.\n",
    "\n",
    "#### 2) Get Players\n",
    "\n",
    "#### The `get_players` function retrieves information about football players based on player IDs.\n",
    "\n",
    "\n",
    "    import footbowls\n",
    "\n",
    "    # Example usage for 'get_players' function with player IDs and Season ID 2022\n",
    "    player_ids = [77, 56, 290]\n",
    "    players_df = footbowls.get_players(player_ids, season_id=2022)\n",
    "    print(players_df)\n",
    "\n",
    "##### This will output a DataFrame containing information about the specified players, including Player Name, Position, Total Goals, Nationality, Player DOB, and Current Season Team.\n",
    "\n"
   ]
  }
 ],
 "metadata": {
  "language_info": {
   "name": "python"
  },
  "orig_nbformat": 4
 },
 "nbformat": 4,
 "nbformat_minor": 2
}
